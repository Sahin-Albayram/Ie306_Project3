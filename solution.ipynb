{
 "cells": [
  {
   "cell_type": "code",
   "execution_count": 1,
   "metadata": {},
   "outputs": [
    {
     "name": "stdout",
     "output_type": "stream",
     "text": [
      "Intel MKL WARNING: Support of Intel(R) Streaming SIMD Extensions 4.2 (Intel(R) SSE4.2) enabled only processors has been deprecated. Intel oneAPI Math Kernel Library 2025.0 will require Intel(R) Advanced Vector Extensions (Intel(R) AVX) instructions.\n",
      "Intel MKL WARNING: Support of Intel(R) Streaming SIMD Extensions 4.2 (Intel(R) SSE4.2) enabled only processors has been deprecated. Intel oneAPI Math Kernel Library 2025.0 will require Intel(R) Advanced Vector Extensions (Intel(R) AVX) instructions.\n"
     ]
    }
   ],
   "source": [
    "import numpy as np\n",
    "import simpy\n",
    "import random"
   ]
  },
  {
   "cell_type": "code",
   "execution_count": 4,
   "metadata": {},
   "outputs": [],
   "source": [
    "SEED = 930\n",
    "UNIFORM_INTERVAL = [4.17, 5.37]\n",
    "NUM_SERVER = 2\n",
    "SERVER_UTILIZATIONS_PHASE1 = [0.6, 0.7, 0.8, 0.9]\n",
    "SERVER_SERVICE_MEAN_PHASE1 = [5.725,6.679,7.634,8.588]\n",
    "SERVER_UTILIATION_PHASE2 = 0.8\n",
    "NUMBER_OF_CUSTOMERS = 100\n"
   ]
  },
  {
   "cell_type": "code",
   "execution_count": 5,
   "metadata": {},
   "outputs": [],
   "source": [
    "phase_1 = {\"num_server\":NUM_SERVER,\"arr_interval\":UNIFORM_INTERVAL,\"util\":SERVER_UTILIZATIONS_PHASE1,\"serv_mean\":SERVER_SERVICE_MEAN_PHASE1}\n",
    "phase_2 = {\"num_server\":NUM_SERVER,\"arr_interval\":UNIFORM_INTERVAL,\"util\":SERVER_UTILIATION_PHASE2,\"serv_mean\":7.634}"
   ]
  },
  {
   "cell_type": "code",
   "execution_count": 7,
   "metadata": {},
   "outputs": [],
   "source": [
    "class Jobs(object):\n",
    "    def __init__(self, name, env, operator , run_):\n",
    "        self.env = env\n",
    "        self.name = name\n",
    "        self.operator = operator\n",
    "        self.arrival_t = self.env.now\n",
    "        self.action = env.process(self.call())\n",
    "        self.run = run_\n",
    "    \n",
    "    \n",
    "    def call(self):\n",
    "        print('%s initiated a call at %g' % (self.name, self.env.now))\n",
    " \n",
    "        with self.operator.request() as req:\n",
    "            yield req\n",
    "            print('%s is assigned to an operator at %g' % (self.name, self.env.now))\n",
    "            self.run.queue_w_times.append(self.env.now - self.arrival_t)\n",
    "            yield self.env.process(self.ask_question())\n",
    "            print('%s is done at %g' % (self.name, self.env.now))\n",
    "            \n",
    "    def ask_question(self):\n",
    "        duration = random.expovariate(self.phase.serv_mean)\n",
    "        yield self.env.timeout(duration)\n",
    "        self.run.service_times.append(duration)\n",
    "        \n",
    "        "
   ]
  },
  {
   "cell_type": "code",
   "execution_count": 8,
   "metadata": {},
   "outputs": [],
   "source": [
    "class Run():\n",
    "    def __init__(self,arr_rate,serv_rate):\n",
    "        self.seed = random.random()*425\n",
    "        \n",
    "        self.arr_rate = arr_rate\n",
    "        self.serv_rate = serv_rate\n",
    "        self.jobs=[]\n",
    "        self.service_times=[]\n",
    "        self.queue_w_times=[]\n",
    "        self.env = simpy.Environment()\n",
    "        self.operator = simpy.Resource(self.env, capacity = 1)\n",
    "    \n",
    "    def run_sim(self):\n",
    "        random.seed(self.seed)\n",
    "        self.env.process(self.jobs_generator())\n",
    "        self.env.run()\n",
    "        pass\n",
    "\n",
    "\n",
    "    def jobs_generator(self):\n",
    "        for i in range(NUMBER_OF_CUSTOMERS):\n",
    "            yield self.env.timeout(random.expovariate(self.arr_rate))\n",
    "            job = Jobs('Cust %s' %(i+1), self.env, self.operator,self)\n",
    "            self.jobs.append(job)  "
   ]
  },
  {
   "cell_type": "code",
   "execution_count": 9,
   "metadata": {},
   "outputs": [],
   "source": [
    "class Phase():\n",
    "    def __init__(self,lib,num_runs):\n",
    "        self.num_server = lib[\"num_server\"]\n",
    "        self.arr_int = lib[\"arr_interval\"]\n",
    "        self.util = lib[\"util\"]\n",
    "        self.serv_mean = lib[\"serv_mean\"]\n",
    "        self.init_runs(num_runs)\n",
    "\n",
    "\n",
    "    def init_runs(self,num_runs):\n",
    "        self.runs = []\n",
    "        for util_no in range(len(self.util)):\n",
    "            for i in range(num_runs):\n",
    "                obj = Run(self.arr_int,self.serv_mean[util_no])\n",
    "                self.runs.append(obj)\n",
    "\n",
    "    def run_phase(self):\n",
    "        for run in self.runs:\n",
    "            run.run_sim()\n",
    "    \n"
   ]
  },
  {
   "cell_type": "code",
   "execution_count": null,
   "metadata": {},
   "outputs": [],
   "source": []
  },
  {
   "cell_type": "code",
   "execution_count": null,
   "metadata": {},
   "outputs": [],
   "source": []
  }
 ],
 "metadata": {
  "kernelspec": {
   "display_name": "ie306",
   "language": "python",
   "name": "python3"
  },
  "language_info": {
   "codemirror_mode": {
    "name": "ipython",
    "version": 3
   },
   "file_extension": ".py",
   "mimetype": "text/x-python",
   "name": "python",
   "nbconvert_exporter": "python",
   "pygments_lexer": "ipython3",
   "version": "3.11.3"
  },
  "orig_nbformat": 4
 },
 "nbformat": 4,
 "nbformat_minor": 2
}
